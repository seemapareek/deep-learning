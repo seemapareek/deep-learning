{
 "cells": [
  {
   "cell_type": "code",
   "execution_count": null,
   "metadata": {},
   "outputs": [],
   "source": [
    "file_path = './data/'\n",
    "file_name_review = 'yelp_review.csv'\n",
    "file_name_business = 'yelp_business.csv'\n",
    "\n",
    "#Preprocess file\n",
    "file_name_preprocess = 'df_reviews.pkl'\n",
    "\n",
    "file_name_lemmatized = 'df_reviews_lemma.pkl'"
   ]
  }
 ],
 "metadata": {
  "kernelspec": {
   "display_name": "Python 3",
   "language": "python",
   "name": "python3"
  },
  "language_info": {
   "codemirror_mode": {
    "name": "ipython",
    "version": 3
   },
   "file_extension": ".py",
   "mimetype": "text/x-python",
   "name": "python",
   "nbconvert_exporter": "python",
   "pygments_lexer": "ipython3",
   "version": "3.6.5"
  }
 },
 "nbformat": 4,
 "nbformat_minor": 2
}
