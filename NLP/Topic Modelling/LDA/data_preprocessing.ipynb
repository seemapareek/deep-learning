{
 "cells": [
  {
   "cell_type": "code",
   "execution_count": 1,
   "metadata": {},
   "outputs": [],
   "source": [
    "def load_raw_data():\n",
    "    \n",
    "    # Read business file and filter only restaurants data\n",
    "    cols = ['business_id','categories']\n",
    "    df_business = pd.read_csv(file_path + file_name_business, usecols = cols) \n",
    "    df_business = df_business[df_business['categories'].str.contains('Restaurants')]\n",
    "    df_business.drop('categories', axis=1, inplace=True)\n",
    "\n",
    "    # Load reviews data\n",
    "    cols_rv = ['review_id', 'business_id', 'date', 'stars', 'text']\n",
    "    df_reviews = pd.read_csv(file_path + file_name_review, usecols = cols_rv) \n",
    "    df_reviews['date'] = pd.to_datetime(df_reviews['date'])\n",
    "    df_reviews = df_reviews[df_reviews['date'].dt.year.isin([2017])]\n",
    "    \n",
    "    # combine the two datasets\n",
    "    df = pd.merge(df_business, df_reviews, how='inner', on='business_id')\n",
    "    df['text_len'] = df['text'].str.len() \n",
    "    print(\"Total Rows:\", df.shape[0], \", Total Columns:\", df.shape[1], \\\n",
    "      \", Total Memory Usage (Bytes):\",df.memory_usage().sum())\n",
    "    \n",
    "    df_business, df_reviews = None, None #Free-up resources\n",
    "    return df\n",
    "\n",
    "\n",
    "def clean_outlier_text(df):\n",
    "    \"\"\"Filter for roughly within the 'box' of IQR range on text length\"\"\"\n",
    "    mask = (df['text'].str.len() > 50) & (df['text'].str.len() < 200)\n",
    "    return df.loc[mask]\n",
    "\n",
    "\n",
    "def save_preprocessed_data(df, file_name=file_name_preprocess):\n",
    "    with open(file_path + file_name, 'wb') as f:\n",
    "        pickle.dump(df, f)"
   ]
  },
  {
   "cell_type": "code",
   "execution_count": 1,
   "metadata": {},
   "outputs": [],
   "source": [
    "def load_pkl_file(file_name):\n",
    "    with open(file_path + file_name, 'rb') as f:\n",
    "        df = pickle.load(f)\n",
    "    return df"
   ]
  },
  {
   "cell_type": "code",
   "execution_count": null,
   "metadata": {},
   "outputs": [],
   "source": [
    "def load_and_preprocess():\n",
    "    df = load_raw_data()\n",
    "    \n",
    "    #Remove outliers\n",
    "    df = clean_outlier_text(df)\n",
    "    \n",
    "    # Dump preprocessed output\n",
    "    save_preprocessed_data(df, file_name_preprocess)\n",
    "    \n",
    "    return df"
   ]
  },
  {
   "cell_type": "code",
   "execution_count": null,
   "metadata": {},
   "outputs": [],
   "source": [
    "def load_processed_data():\n",
    "    try:\n",
    "        with open(file_path + file_name_preprocess, 'rb') as f:\n",
    "            df = pickle.load(f)\n",
    "        \n",
    "    except (OSError, IOError) as e:\n",
    "        df = load_and_preprocess()\n",
    "    \n",
    "    print(\"After removing outliers\")\n",
    "    print(\"Total Rows:\", df.shape[0], \", Total Columns:\", df.shape[1], \\\n",
    "      \", Total Memory Usage (Bytes):\",df.memory_usage().sum())\n",
    "    \n",
    "    return df"
   ]
  }
 ],
 "metadata": {
  "kernelspec": {
   "display_name": "Python 3",
   "language": "python",
   "name": "python3"
  },
  "language_info": {
   "codemirror_mode": {
    "name": "ipython",
    "version": 3
   },
   "file_extension": ".py",
   "mimetype": "text/x-python",
   "name": "python",
   "nbconvert_exporter": "python",
   "pygments_lexer": "ipython3",
   "version": "3.6.5"
  }
 },
 "nbformat": 4,
 "nbformat_minor": 2
}
